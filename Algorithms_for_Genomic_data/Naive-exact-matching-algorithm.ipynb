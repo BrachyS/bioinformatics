{
 "cells": [
  {
   "cell_type": "markdown",
   "metadata": {},
   "source": [
    "#### I implemented two sequence matching algorithms:\n",
    "\n",
    "##### 1. A naive exact matching algorithm which is strand-aware\n",
    "\n",
    "The algorithm takes a pattern of DNA sequence (p), and a reference DNA sequence (t), and finds how many time p occured in t, as well as how many times the reverse-compliment of p occured in t. \n",
    "\n",
    "In three steps:\n",
    "- 1. Parse a fastq/fasta file to extract sequences \n",
    "- 2. Define a function to return the reverse-complement of a DNA sequence\n",
    "- 3. Implement naive exact matching algorithm\n",
    "\n",
    "##### 2. A naive matching algorithm which allows for up to n mismatches"
   ]
  },
  {
   "cell_type": "markdown",
   "metadata": {},
   "source": [
    "##### 1. A naive exact matching algorithm which is strand-aware\n",
    "Step 1. Function which parses fastq and fasta files"
   ]
  },
  {
   "cell_type": "code",
   "execution_count": 118,
   "metadata": {},
   "outputs": [
    {
     "name": "stdout",
     "output_type": "stream",
     "text": [
      "Writing functions/parse_genome.py\n"
     ]
    }
   ],
   "source": [
    "%%writefile functions/parse_genome.py\n",
    "#!/usr/bin/python\n",
    "# Fastq file has 4 lines for each sequence read\n",
    "def parse_fastq(filename):\n",
    "    seqs = []\n",
    "    quals = []\n",
    "    with open(filename) as f:\n",
    "        while True:\n",
    "            f.readline() # skip name line\n",
    "            seq = f.readline().rstrip() # read sequence and remove spaces at end\n",
    "            f.readline() # skip the 3rd line\n",
    "            qual = f.readline().rstrip()\n",
    "\n",
    "            if len(seq) == 0:\n",
    "                break # reached end\n",
    "                \n",
    "            seqs.append(seq)\n",
    "            quals.append(qual)\n",
    "    \n",
    "    return seqs, quals\n",
    "\n",
    "# Fasta file has 2 lines for each sequence read \n",
    "def parse_fasta(filename):\n",
    "    genome = ''\n",
    "    with open(filename) as f:\n",
    "        for line in f:\n",
    "            if not line[0] == '>':\n",
    "                genome += line.rstrip()\n",
    "    return genome"
   ]
  },
  {
   "cell_type": "code",
   "execution_count": 117,
   "metadata": {},
   "outputs": [
    {
     "name": "stdout",
     "output_type": "stream",
     "text": [
      "Writing functions/__init__.py\n"
     ]
    }
   ],
   "source": [
    "%%writefile functions/__init__.py\n",
    "#package functions into module 'functions'"
   ]
  },
  {
   "cell_type": "markdown",
   "metadata": {},
   "source": [
    "Step 2. Function to return reverse-complement of a  DNA sequence"
   ]
  },
  {
   "cell_type": "code",
   "execution_count": 17,
   "metadata": {},
   "outputs": [],
   "source": [
    "def reverseComplement(s):\n",
    "    complement = {'A': 'T', 'C':'G', 'G':'C', 'T':'A', 'N':'N'} # Note N\n",
    "    rc = ''\n",
    "    for i in s[::-1]:\n",
    "        rc = rc + complement[i]\n",
    "    \n",
    "    return rc\n",
    "    # alternatively:\n",
    "#     for i in s:\n",
    "#     rc = complement[i] + rc\n"
   ]
  },
  {
   "cell_type": "markdown",
   "metadata": {},
   "source": [
    "Step 3. Naive exact matching for both strands"
   ]
  },
  {
   "cell_type": "code",
   "execution_count": 82,
   "metadata": {},
   "outputs": [],
   "source": [
    "# Naive match with one strand\n",
    "\n",
    "def naiveMatch(t,p):\n",
    "\n",
    "    occurrences = []\n",
    "    for i in range(len(t)-len(p)+1):\n",
    "        match = True\n",
    "        for j in range(len(p)):\n",
    "            \n",
    "            if t[i+j] != p[j]: \n",
    "                match = False\n",
    "                break\n",
    "        if match:\n",
    "            occurrences.append(i)\n",
    "    return occurrences\n"
   ]
  },
  {
   "cell_type": "code",
   "execution_count": 99,
   "metadata": {},
   "outputs": [],
   "source": [
    "# Naive match with both strands\n",
    "def naive_with_rc(t,p):\n",
    "    rc_p = reverseComplement(p) # get reverse complement sequence\n",
    "    matches = naiveMatch(t,p)\n",
    "    if rc_p == p:\n",
    "        return matches\n",
    "    else:\n",
    "        rc_matches = naiveMatch(t, rc_p)\n",
    "        return matches + rc_matches\n",
    "    "
   ]
  },
  {
   "cell_type": "code",
   "execution_count": 100,
   "metadata": {},
   "outputs": [
    {
     "name": "stdout",
     "output_type": "stream",
     "text": [
      "[10, 24]\n"
     ]
    }
   ],
   "source": [
    "# Test case 1\n",
    "p = 'AGGT'\n",
    "ten_as = 'AAAAAAAAAA'\n",
    "t = ten_as + 'AGGT' + ten_as + 'ACCT' + ten_as\n",
    "occurrences = naive_with_rc(t,p)\n",
    "print(occurrences)"
   ]
  },
  {
   "cell_type": "code",
   "execution_count": 109,
   "metadata": {},
   "outputs": [
    {
     "name": "stdout",
     "output_type": "stream",
     "text": [
      "[10, 24]\n"
     ]
    }
   ],
   "source": [
    "# Test case 2\n",
    "p = 'CGCG'\n",
    "t = ten_as + 'CGCG' + ten_as + 'CGCG' + ten_as\n",
    "occurrences = naive_with_rc(t,p)\n",
    "print(occurrences)"
   ]
  },
  {
   "cell_type": "code",
   "execution_count": 74,
   "metadata": {},
   "outputs": [],
   "source": [
    "# Test case 3\n",
    "# Find matches in the lambda virus genome\n",
    "# parse fasta data\n",
    "virus = parse_fasta('data/lambda_virus.fa')"
   ]
  },
  {
   "cell_type": "code",
   "execution_count": 75,
   "metadata": {},
   "outputs": [
    {
     "data": {
      "text/plain": [
       "48502"
      ]
     },
     "execution_count": 75,
     "metadata": {},
     "output_type": "execute_result"
    }
   ],
   "source": [
    "len(virus)"
   ]
  },
  {
   "cell_type": "code",
   "execution_count": 76,
   "metadata": {},
   "outputs": [
    {
     "data": {
      "text/plain": [
       "'GGGCGGCGACCTCGCGGGTTTTCGCTATTTATGAAAATTTTCCGGTTTAAGGCGTTTCCGTTCTTCTTCGTCATAACTTAATGTTTTTATTTAAAATACC'"
      ]
     },
     "execution_count": 76,
     "metadata": {},
     "output_type": "execute_result"
    }
   ],
   "source": [
    "virus[0:100]"
   ]
  },
  {
   "cell_type": "code",
   "execution_count": 101,
   "metadata": {},
   "outputs": [
    {
     "name": "stdout",
     "output_type": "stream",
     "text": [
      "306\n"
     ]
    }
   ],
   "source": [
    "t = virus\n",
    "p = 'AGGT'\n",
    "matches = naive_with_rc(t,p)\n",
    "print(len(matches)) # number of matches"
   ]
  },
  {
   "cell_type": "code",
   "execution_count": 107,
   "metadata": {},
   "outputs": [
    {
     "name": "stdout",
     "output_type": "stream",
     "text": [
      "450\n"
     ]
    }
   ],
   "source": [
    "t = virus\n",
    "p = 'AGTCGA'\n",
    "matches = naive_with_rc(t,p)\n",
    "print(min(matches)) # Leftmost offset for the matches"
   ]
  },
  {
   "cell_type": "markdown",
   "metadata": {},
   "source": [
    "##### 2. A naive matching algorithm which allows for up to n mismatches"
   ]
  },
  {
   "cell_type": "code",
   "execution_count": 53,
   "metadata": {},
   "outputs": [],
   "source": [
    "# Only consider on strand here\n",
    "def naive_n_mismatch(t,p,n):\n",
    "    occurrences = []\n",
    "    \n",
    "    for i in range(len(t)-len(p)+1):\n",
    "        match = True\n",
    "        mismatch = 0 \n",
    "        for j in range(len(p)):\n",
    "\n",
    "            if (t[i+j] != p[j]): \n",
    "                mismatch += 1\n",
    "                if mismatch > n:\n",
    "                    match = False\n",
    "                    break\n",
    "        if match:\n",
    "            occurrences.append(i)\n",
    "    return occurrences\n"
   ]
  },
  {
   "cell_type": "code",
   "execution_count": 119,
   "metadata": {},
   "outputs": [
    {
     "name": "stdout",
     "output_type": "stream",
     "text": [
      "[10, 24, 38]\n"
     ]
    }
   ],
   "source": [
    "# Test case 1\n",
    "p = 'CTGT'\n",
    "ten_as = 'AAAAAAAAAA'\n",
    "t = ten_as + 'CTGT' + ten_as + 'CTTT' + ten_as + 'CGGG' + ten_as\n",
    "n= 2\n",
    "occurrences = naive_n_mismatch(t,p,n)\n",
    "print(occurrences)"
   ]
  },
  {
   "cell_type": "code",
   "execution_count": 56,
   "metadata": {},
   "outputs": [
    {
     "name": "stdout",
     "output_type": "stream",
     "text": [
      "191\n"
     ]
    }
   ],
   "source": [
    "# Test case 2 with virus genome\n",
    "p = 'TTCAAGCC'\n",
    "t = virus\n",
    "n =2 \n",
    "occurrences = naive_n_mismatch(t,p,n)\n",
    "print(len(occurrences))"
   ]
  },
  {
   "cell_type": "code",
   "execution_count": 57,
   "metadata": {},
   "outputs": [
    {
     "name": "stdout",
     "output_type": "stream",
     "text": [
      "49\n"
     ]
    }
   ],
   "source": [
    "# Test case 3 with virus genome\n",
    "p = 'AGGAGGTT'\n",
    "t = virus\n",
    "n =2 \n",
    "occurrences = naive_n_mismatch(t,p,n)\n",
    "print(occurrences[0])"
   ]
  },
  {
   "cell_type": "markdown",
   "metadata": {},
   "source": [
    "Lastly, an algorithm to identify bad cycles (corresponding to specific offset across all reads) in fastq data"
   ]
  },
  {
   "cell_type": "code",
   "execution_count": 60,
   "metadata": {},
   "outputs": [],
   "source": [
    "# Count 'N' for all positions across reads\n",
    "# Use a human genome dataset \n",
    "\n",
    "# parse fastq data\n",
    "human, _ = parse_fastq('data/ERR037900_1.first1000.fastq')"
   ]
  },
  {
   "cell_type": "code",
   "execution_count": 61,
   "metadata": {},
   "outputs": [
    {
     "data": {
      "text/plain": [
       "1000"
      ]
     },
     "execution_count": 61,
     "metadata": {},
     "output_type": "execute_result"
    }
   ],
   "source": [
    "len(human)"
   ]
  },
  {
   "cell_type": "code",
   "execution_count": 62,
   "metadata": {},
   "outputs": [
    {
     "data": {
      "text/plain": [
       "'TAACCCTAACCCTAACCCTAACCCTAACCCTAACCCTAACCCTAACCCTAACCCTAACCCTAACCCNAACCCTAACCCTAACCCTAACCCTAACCCTAAC'"
      ]
     },
     "execution_count": 62,
     "metadata": {},
     "output_type": "execute_result"
    }
   ],
   "source": [
    "human[0]"
   ]
  },
  {
   "cell_type": "code",
   "execution_count": 65,
   "metadata": {},
   "outputs": [
    {
     "data": {
      "text/plain": [
       "Counter({'T': 22476, 'A': 24057, 'C': 29665, 'N': 914, 'G': 22888})"
      ]
     },
     "execution_count": 65,
     "metadata": {},
     "output_type": "execute_result"
    }
   ],
   "source": [
    "from collections import Counter\n",
    "counter = Counter()\n",
    "for seq in human:\n",
    "    counter.update(seq)\n",
    "counter   # 'N' = 914, indicate bad cycle at certain positions"
   ]
  },
  {
   "cell_type": "code",
   "execution_count": 66,
   "metadata": {},
   "outputs": [],
   "source": [
    "# Find out positions with lots of Ns\n",
    "from collections import Counter\n",
    "read_N = Counter()\n",
    "\n",
    "for seq in human:\n",
    "    for i in range(len(seq)):\n",
    "        if seq[i] == 'N':\n",
    "            read_N[i] +=1            "
   ]
  },
  {
   "cell_type": "code",
   "execution_count": 69,
   "metadata": {},
   "outputs": [
    {
     "data": {
      "text/plain": [
       "Counter({66: 903, 91: 2, 52: 7, 67: 1, 92: 1})"
      ]
     },
     "execution_count": 69,
     "metadata": {},
     "output_type": "execute_result"
    }
   ],
   "source": [
    "read_N"
   ]
  },
  {
   "cell_type": "code",
   "execution_count": 68,
   "metadata": {},
   "outputs": [
    {
     "data": {
      "text/plain": [
       "[(66, 903)]"
      ]
     },
     "execution_count": 68,
     "metadata": {},
     "output_type": "execute_result"
    }
   ],
   "source": [
    "read_N.most_common(1) # Position 66 has 903 Ns, indicating a bad sequence cycle"
   ]
  }
 ],
 "metadata": {
  "kernelspec": {
   "display_name": "Python 3",
   "language": "python",
   "name": "python3"
  },
  "language_info": {
   "codemirror_mode": {
    "name": "ipython",
    "version": 3
   },
   "file_extension": ".py",
   "mimetype": "text/x-python",
   "name": "python",
   "nbconvert_exporter": "python",
   "pygments_lexer": "ipython3",
   "version": "3.6.7"
  }
 },
 "nbformat": 4,
 "nbformat_minor": 2
}
