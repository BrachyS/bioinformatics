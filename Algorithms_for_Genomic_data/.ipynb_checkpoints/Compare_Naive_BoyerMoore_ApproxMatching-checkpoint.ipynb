{
 "cells": [
  {
   "cell_type": "markdown",
   "metadata": {},
   "source": [
    "In this notebook, I implemented Boyer-Moore and Approximate matching algorithms for sequence (DNA) alightment problems. There differences noted and efficiency compared.  \n",
    "\n",
    "- Naive exact matching algorithms compare both alignments and characters from left to right\n",
    "- Boyer-Moore is built upon naive exact matching, also compares alignments from left to right, but characters from right to left. This allows skipping unnecessary comparisons thus can be more efficient.\n",
    "- Approximate matching is built upon Boyer-Moore, but utilized the \"Pigeonhole principle\" to bridge the gap between exact matching and approximate matching. It is more robust in real life usage because it can allow a number of mismatches in each alignment hit.  \n",
    "- Next, a different approximate matching algorithm was implemented, utilizing the 'Index class' instead of the 'Boyer-Moore' approach. Both utilized the 'pigeonhole principle'\n"
   ]
  },
  {
   "cell_type": "code",
   "execution_count": 19,
   "metadata": {},
   "outputs": [],
   "source": [
    "# First, we import a module authored by Ben Langmead, which defines functions to preprocess sequence \n",
    "# for the Boyer-Moore matching\n",
    "from bm_preproc import BoyerMoore\n",
    "import bm_preproc"
   ]
  },
  {
   "cell_type": "markdown",
   "metadata": {},
   "source": [
    "### 1. Define naive matching algorithm with counts\n",
    "-Additionally returns number of alignments and character comparisons (for efficiency comparison)"
   ]
  },
  {
   "cell_type": "code",
   "execution_count": 2,
   "metadata": {},
   "outputs": [],
   "source": [
    "def naive_with_counts(p, t):\n",
    "    '''naive exact matching algorithm, p=pattern, t=text,\n",
    "    returns indexes of matches, and  \n",
    "    number of alignments and character comparisons '''\n",
    "    occurrences = []\n",
    "    alignments = 0\n",
    "    char_comparisons = 0\n",
    "    for i in range(len(t)-len(p)+1):\n",
    "        match = True\n",
    "        alignments += 1\n",
    "        for j in range(len(p)):\n",
    "            char_comparisons += 1\n",
    "            if t[i+j] != p[j]: \n",
    "                match = False\n",
    "                break\n",
    "        if match:\n",
    "            occurrences.append(i)\n",
    "    return occurrences, alignments, char_comparisons"
   ]
  },
  {
   "cell_type": "markdown",
   "metadata": {},
   "source": [
    "### 2. Define Boyer-Moore matching algorithm with counts"
   ]
  },
  {
   "cell_type": "code",
   "execution_count": 3,
   "metadata": {
    "code_folding": []
   },
   "outputs": [],
   "source": [
    "def boyer_moore_with_counts(p, p_bm, t):\n",
    "    '''Boyer-Moore matching, p=pattern, p_bm=Boyer-Moore object for p, t=text,\n",
    "    returns indexes of matches, and  \n",
    "    number of alignments and character comparisons '''\n",
    "    i = 0 \n",
    "    alignments = 0\n",
    "    char_comparisons = 0\n",
    "    occurrences = []\n",
    "    while i < len(t) - len(p) + 1:\n",
    "        alignments += 1\n",
    "        shift = 1\n",
    "        mismatch = False\n",
    "        for j in range(len(p)-1, -1, -1): # move from right to left\n",
    "            char_comparisons += 1\n",
    "            if p[j] != t[i+j]: # if mismatch\n",
    "                skip_bc = p_bm.bad_character_rule(j, t[i+j]) # apply bad character rule\n",
    "                skip_gs = p_bm.good_suffix_rule(j) # apply good suffix rule\n",
    "                shift = max(skip_bc, skip_gs, shift) # skip comparisons\n",
    "                mismatch = True\n",
    "                break\n",
    "            \n",
    "        if not mismatch: # if mismatch = False\n",
    "            occurrences.append(i)\n",
    "            skip = p_bm.match_skip()\n",
    "            shift = max(skip, shift)\n",
    "\n",
    "        i += shift\n",
    "    return occurrences, alignments, char_comparisons\n",
    "\n",
    "        \n",
    "    "
   ]
  },
  {
   "cell_type": "markdown",
   "metadata": {},
   "source": [
    "##### Test case 1 "
   ]
  },
  {
   "cell_type": "code",
   "execution_count": 4,
   "metadata": {},
   "outputs": [
    {
     "name": "stdout",
     "output_type": "stream",
     "text": [
      "Naive matching: [40] 41 46\n"
     ]
    }
   ],
   "source": [
    "# Naive \n",
    "p = 'word'\n",
    "t = 'there would have been a time for such a word'\n",
    "occ, num1, num2 = naive_with_counts(p, t)\n",
    "\n",
    "print('Naive matching:', occ, num1, num2)"
   ]
  },
  {
   "cell_type": "code",
   "execution_count": 8,
   "metadata": {},
   "outputs": [
    {
     "name": "stdout",
     "output_type": "stream",
     "text": [
      "Boyer-Moore: [40] 12 15\n"
     ]
    }
   ],
   "source": [
    "# Boyer-Moore\n",
    "p = 'word'\n",
    "t = 'there would have been a time for such a word'\n",
    "lowercase_alphabet = 'abcdefghijklmnopqrstuvwxyz '\n",
    "p_bm = BoyerMoore(p, lowercase_alphabet)\n",
    "occ, num1, num2= boyer_moore_with_counts(p, p_bm, t)\n",
    "\n",
    "print('Boyer-Moore:', occ, num1, num2)"
   ]
  },
  {
   "cell_type": "markdown",
   "metadata": {},
   "source": [
    "##### Test case 2"
   ]
  },
  {
   "cell_type": "code",
   "execution_count": 9,
   "metadata": {},
   "outputs": [
    {
     "name": "stdout",
     "output_type": "stream",
     "text": [
      "[0, 19] 20 35\n"
     ]
    }
   ],
   "source": [
    "# Naive \n",
    "p = 'needle'\n",
    "t = 'needle need noodle needle'\n",
    "occurrences, num_alignments, num_character_comparisons = naive_with_counts(p, t)\n",
    "print(occurrences, num_alignments, num_character_comparisons)"
   ]
  },
  {
   "cell_type": "code",
   "execution_count": 10,
   "metadata": {},
   "outputs": [
    {
     "name": "stdout",
     "output_type": "stream",
     "text": [
      "Boyer-Moore: [0, 19] 5 18\n"
     ]
    }
   ],
   "source": [
    "# Boyer-Moore\n",
    "p = 'needle'\n",
    "t = 'needle need noodle needle'\n",
    "p_bm = BoyerMoore(p, lowercase_alphabet)\n",
    "occ2, num_bm_1, num_bm_2 = boyer_moore_with_counts(p, p_bm, t)\n",
    "print('Boyer-Moore:', occ2, num_bm_1, num_bm_2)"
   ]
  },
  {
   "cell_type": "markdown",
   "metadata": {},
   "source": [
    "##### Test case 3 using human genome chr1"
   ]
  },
  {
   "cell_type": "code",
   "execution_count": 1,
   "metadata": {},
   "outputs": [],
   "source": [
    "from functions.parse_genome import parse_fasta\n",
    "# parse human genome data chr1\n",
    "human = parse_fasta('data/chr1.GRCh38.excerpt.fasta')"
   ]
  },
  {
   "cell_type": "code",
   "execution_count": 21,
   "metadata": {},
   "outputs": [
    {
     "name": "stdout",
     "output_type": "stream",
     "text": [
      "[56922] 799954 984143\n"
     ]
    }
   ],
   "source": [
    "# Naive\n",
    "p = 'GGCGCGGTGGCTCACGCCTGTAATCCCAGCACTTTGGGAGGCCGAGG'\n",
    "t = human\n",
    "occurrences, num_alignments, num_character_comparisons = naive_with_counts(p, t)\n",
    "print(occurrences, num_alignments, num_character_comparisons)"
   ]
  },
  {
   "cell_type": "code",
   "execution_count": 23,
   "metadata": {},
   "outputs": [
    {
     "name": "stdout",
     "output_type": "stream",
     "text": [
      "Boyer-Moore: [56922] 127974 165191\n"
     ]
    }
   ],
   "source": [
    "p = 'GGCGCGGTGGCTCACGCCTGTAATCCCAGCACTTTGGGAGGCCGAGG'\n",
    "t = human\n",
    "p_bm = BoyerMoore(p, alphabet='ACGT')\n",
    "occ2, num_bm_1, num_bm_2 = boyer_moore_with_counts(p, p_bm, t)\n",
    "print('Boyer-Moore:', occ2, num_bm_1, num_bm_2)"
   ]
  },
  {
   "cell_type": "markdown",
   "metadata": {},
   "source": [
    "### 3. Approximate matching with k-mer index vs. Boyer-Moore, both applying pigeonhole principle"
   ]
  },
  {
   "cell_type": "markdown",
   "metadata": {},
   "source": [
    "First, write function to apply approximate matching combining Boyer-Moore and pigeonhole principle"
   ]
  },
  {
   "cell_type": "code",
   "execution_count": 27,
   "metadata": {},
   "outputs": [],
   "source": [
    "def approximate_match(p, t, n):\n",
    "    '''Apply pigeonhole principle to do approximate matching\n",
    "    n = number of mismatches allowed'''\n",
    "    segment_length = int(round(len(p)/(n+1))) # divide to n+1 segments\n",
    "    all_matches = set()\n",
    "    \n",
    "    for i in range(n+1): # For each segment, look for matches\n",
    "        start = i*segment_length # the start location of the segment\n",
    "        end = min(len(p), (i+1)*segment_length)# last seg may not be multiple of n\n",
    "        p_bm = BoyerMoore(p[start:end], alphabet='ACGT') # create look-up table\n",
    "        matches = boyer_moore(p[start:end], p_bm, t)\n",
    "        #print(i, start, end,matches)\n",
    "        \n",
    "        for m in matches: # For each match in t, check the rest of p and see how many mismatches are there\n",
    "            # NOTE: m are locations in t!\n",
    "            \n",
    "            if m < start or m-start+len(p)>len(t): # be sure m does not run off the start or end of t\n",
    "                continue\n",
    "                \n",
    "            mismatches = 0\n",
    "            # check for mismatches on the left and right side of the segment\n",
    "            # we are essentially compare the whole p, but no need to compare the segment again\n",
    "            # so the slicing in t is the same for the left and right comparisons, as t[m-start+j]\n",
    "            # with j in range(0, start) for left and in range(end, len(p)) for the right. \n",
    "            for j in range(0,start): # check left side of the segment in p\n",
    "                print('left, j=',j,'p[j]',p[j],'t[m-start+j]',t[m-start+j])\n",
    "                if not p[j] == t[m-start+j]:\n",
    "                    mismatches += 1\n",
    "                    if mismatches > n: # remember to break to be efficient\n",
    "                        break\n",
    "            \n",
    "            for j in range(end,len(p)): # check right side \n",
    "                print('right, j=',j,'p[j]',p[j],'t[m-start+j]',t[m-start+j])\n",
    "                if not p[j] == t[m-start+j]: # NOTE: the slicing of t is the same as left side\n",
    "        \n",
    "                    mismatches += 1\n",
    "                    if mismatches > n:\n",
    "                        break\n",
    "            \n",
    "            if mismatches <= n:\n",
    "                all_matches.add(m-start) # NOTE: use '.add', not '.append' for set()\n",
    "                # NOTE: use (m-start) to store locations that match the start of p, not the match at the ith segment of p. \n",
    "        \n",
    "    return list(all_matches) # convert to list\n",
    "        \n",
    "        "
   ]
  },
  {
   "cell_type": "markdown",
   "metadata": {},
   "source": [
    "Next, implement approximate matching differently, use Index method.\n",
    "\n",
    "Previsouly with pigeonhole principle, we divide p into n+1 segments and find exact matching in one of the segments (while allowing mismatches in the others).\n",
    "\n",
    "With the Index method, we firstly create a list of kmers for the text t, then search the first kmer of p (can be other kmers of p as well) against the kmers list of t. Record the hits, the compare the rest of p with t at every hit, allowing up to n mismatches. \n"
   ]
  },
  {
   "cell_type": "markdown",
   "metadata": {},
   "source": [
    "Import the K-mer index class"
   ]
  },
  {
   "cell_type": "code",
   "execution_count": 2,
   "metadata": {},
   "outputs": [],
   "source": [
    "# %load functions/kmer_index.py\n",
    "#!/usr/bin/env python\n",
    "\n",
    "\"\"\"kmer_index.py: A k-mer index for indexing a text.\"\"\"\n",
    "\n",
    "__author__ = \"Ben Langmead\"\n",
    "\n",
    "import bisect\n",
    "\n",
    "\n",
    "class Index(object):\n",
    "    \"\"\" Holds a substring index for a text T \"\"\"\n",
    "\n",
    "    def __init__(self, t, k):\n",
    "        \"\"\" Create index from all substrings of t of length k \"\"\"\n",
    "        self.k = k  # k-mer length (k)\n",
    "        self.index = []\n",
    "        for i in range(len(t) - k + 1):  # for each k-mer\n",
    "            self.index.append((t[i:i+k], i))  # add (k-mer, offset) pair\n",
    "        self.index.sort()  # alphabetize by k-mer\n",
    "\n",
    "    def query(self, p):\n",
    "        \"\"\" Return index hits for first k-mer of p \"\"\"\n",
    "        kmer = p[:self.k]  # query with first k-mer\n",
    "        i = bisect.bisect_left(self.index, (kmer, -1))  # binary search\n",
    "        hits = []\n",
    "        while i < len(self.index):  # collect matching index entries\n",
    "            if self.index[i][0] != kmer:\n",
    "                break\n",
    "            hits.append(self.index[i][1])\n",
    "            i += 1\n",
    "        return hits\n"
   ]
  },
  {
   "cell_type": "code",
   "execution_count": 32,
   "metadata": {},
   "outputs": [],
   "source": [
    "# Approx matching algorithm\n",
    "def approx_match_index(p, t, k, n):\n",
    "    '''Function to find match of p in t, with up to n mismatches\n",
    "    use Index Class to create kmers of length k and verify hits'''\n",
    "    myindex = Index(t,k)\n",
    "    occurrences = set()\n",
    "    seg_length = int(round(len(p)/(n+1))) # p = 24\n",
    "    index_hits = 0 # count index hits\n",
    "    for seg in range(n+1): #number of 'pigeonholes' is n+1\n",
    "        start = seg*seg_length\n",
    "        end = (seg+1)*seg_length\n",
    "\n",
    "        for i in myindex.query(p[start:end]):\n",
    "            index_hits += 1\n",
    "            mismatches = 0\n",
    "            for j in range(0, start):\n",
    "                if p[j] != t[i-start+j]:\n",
    "                    mismatches += 1\n",
    "                    #print(i, p[j], t[i-start+j],mismatches)\n",
    "                    if mismatches > n:\n",
    "                        break\n",
    "            for j in range(end, len(p)):\n",
    "                if p[j] != t[i-start+j]:\n",
    "                    mismatches += 1\n",
    "                    #print(i, p[j], t[i-start+j],mismatches)\n",
    "                    if mismatches > n:\n",
    "                        break                    \n",
    "            \n",
    "            if mismatches <= n:\n",
    "                occurrences.add(i-start)\n",
    "                \n",
    "    return list(occurrences), index_hits"
   ]
  },
  {
   "cell_type": "code",
   "execution_count": 33,
   "metadata": {},
   "outputs": [
    {
     "name": "stdout",
     "output_type": "stream",
     "text": [
      "[84641, 160162, 724927, 273669, 147558, 364263, 421221, 681737, 717706, 465647, 429299, 747359, 657496, 160729, 56922, 635931, 191452, 551134, 262042]\n"
     ]
    }
   ],
   "source": [
    "# Test case 1\n",
    "p = 'GGCGCGGTGGCTCACGCCTGTAAT'\n",
    "t = human \n",
    "n= 2\n",
    "occ, index_hits = approx_match_index(p,t,k=8,n=2)\n",
    "print(occ)"
   ]
  },
  {
   "cell_type": "code",
   "execution_count": 34,
   "metadata": {},
   "outputs": [
    {
     "name": "stdout",
     "output_type": "stream",
     "text": [
      "90\n"
     ]
    }
   ],
   "source": [
    "print(index_hits)"
   ]
  },
  {
   "cell_type": "code",
   "execution_count": 66,
   "metadata": {},
   "outputs": [],
   "source": [
    "# Compaire with naive exact match\n",
    "def naive_n_mismatch(t,p,n):\n",
    "    occurrences = []\n",
    "    \n",
    "    for i in range(len(t)-len(p)+1):\n",
    "        match = True\n",
    "        mismatch = 0 \n",
    "        for j in range(len(p)):\n",
    "\n",
    "            if (t[i+j] != p[j]): \n",
    "                mismatch += 1\n",
    "                if mismatch > n:\n",
    "                    match = False\n",
    "                    break\n",
    "        if match:\n",
    "            occurrences.append(i)\n",
    "    return occurrences\n"
   ]
  },
  {
   "cell_type": "code",
   "execution_count": 197,
   "metadata": {
    "scrolled": true
   },
   "outputs": [
    {
     "name": "stdout",
     "output_type": "stream",
     "text": [
      "[56922, 84641, 147558, 160162, 160729, 191452, 262042, 273669, 364263, 421221, 429299, 465647, 551134, 635931, 657496, 681737, 717706, 724927, 747359]\n"
     ]
    }
   ],
   "source": [
    "# Test case 1\n",
    "p = 'GGCGCGGTGGCTCACGCCTGTAAT'\n",
    "x = 'GGTGCGGTGGCTCATGCCTGTAAT'\n",
    "t = human \n",
    "n= 2\n",
    "occ1 = naive_n_mismatch(t,p,n)\n",
    "print(occ1)"
   ]
  },
  {
   "cell_type": "markdown",
   "metadata": {},
   "source": [
    "Use a different version (more general) of indexing method which allows alternative slicing "
   ]
  },
  {
   "cell_type": "code",
   "execution_count": 55,
   "metadata": {},
   "outputs": [],
   "source": [
    "# Define the general indexing class which allows slicing with intervals >0\n",
    "import bisect\n",
    "   \n",
    "class SubseqIndex(object):\n",
    "    \"\"\" Holds a subsequence index for a text T \"\"\"\n",
    "    \n",
    "    def __init__(self, t, k, ival):\n",
    "        \"\"\" Create index from all subsequences consisting of k characters\n",
    "            spaced ival positions apart.  E.g., SubseqIndex(\"ATAT\", 2, 2)\n",
    "            extracts (\"AA\", 0) and (\"TT\", 1). \"\"\"\n",
    "        self.k = k  # num characters per subsequence extracted\n",
    "        self.ival = ival  # space between them; 1=adjacent, 2=every other, etc\n",
    "        self.index = []\n",
    "        self.span = 1 + ival * (k - 1)\n",
    "        for i in range(len(t) - self.span + 1):  # for each subseq\n",
    "            self.index.append((t[i:i+self.span:ival], i))  # add (subseq, offset)\n",
    "        self.index.sort()  # alphabetize by subseq\n",
    "    \n",
    "    def query(self, p):\n",
    "        \"\"\" Return index hits for first subseq of p \"\"\"\n",
    "        subseq = p[:self.span:self.ival]  # query with first subseq\n",
    "        i = bisect.bisect_left(self.index, (subseq, -1))  # binary search\n",
    "        hits = []\n",
    "        while i < len(self.index):  # collect matching index entries\n",
    "            if self.index[i][0] != subseq:\n",
    "                break\n",
    "            hits.append(self.index[i][1])\n",
    "            i += 1\n",
    "        return hits\n"
   ]
  },
  {
   "cell_type": "markdown",
   "metadata": {},
   "source": [
    "Approximate matching using subsequence (e.g., slice every other character)"
   ]
  },
  {
   "cell_type": "code",
   "execution_count": 62,
   "metadata": {},
   "outputs": [],
   "source": [
    "def approx_match_SubseqIndex(p, t, k, ival, n):\n",
    "    '''Function to find match of p in t, with up to n mismatches\n",
    "    use Index Class to create kmers of length k and verify hits'''\n",
    "    myindex = SubseqIndex(t,k,ival)\n",
    "    occurrences = set()\n",
    "    seg_length = int(round(len(p)/(n+1))) # p = 24\n",
    "    span = 1 + ival*(k-1)\n",
    "    index_hits = 0 # count index hits\n",
    "    \n",
    "    for seg in range(n+1): #number of 'pigeonholes' is n+1\n",
    "        \n",
    "        for i in myindex.query(p[seg:]): # for each match of the specific subsequence in p (n+1 total)\n",
    "            index_hits += 1\n",
    "            mismatches = 0\n",
    "            # compare whole sequence of p with t \n",
    "            # I could try remove the already matched subsequence from comparisions, but the code can get a lot more complicated\n",
    "            for j in range(len(p)):\n",
    "                if p[j] != t[i-seg+j]:\n",
    "                    mismatches += 1\n",
    "                    #print(i, p[j], t[i-start+j],mismatches)\n",
    "                    if mismatches > n:\n",
    "                        break                  \n",
    "            \n",
    "            if mismatches <= n:\n",
    "                occurrences.add(i-seg)\n",
    "                \n",
    "    return list(occurrences), index_hits"
   ]
  },
  {
   "cell_type": "code",
   "execution_count": 63,
   "metadata": {},
   "outputs": [
    {
     "name": "stdout",
     "output_type": "stream",
     "text": [
      "[84641, 160162, 724927, 273669, 147558, 364263, 421221, 681737, 717706, 465647, 429299, 747359, 657496, 160729, 56922, 635931, 191452, 551134, 262042]\n"
     ]
    }
   ],
   "source": [
    "# Test case 1\n",
    "p = 'GGCGCGGTGGCTCACGCCTGTAAT'\n",
    "t = human \n",
    "n= 2\n",
    "occ, index_hits = approx_match_SubseqIndex(p,t,k=8,ival=3, n=2)\n",
    "print(occ)"
   ]
  },
  {
   "cell_type": "code",
   "execution_count": 64,
   "metadata": {},
   "outputs": [
    {
     "name": "stdout",
     "output_type": "stream",
     "text": [
      "19\n"
     ]
    }
   ],
   "source": [
    "print(len(occ))"
   ]
  },
  {
   "cell_type": "code",
   "execution_count": 67,
   "metadata": {},
   "outputs": [
    {
     "name": "stdout",
     "output_type": "stream",
     "text": [
      "79\n"
     ]
    }
   ],
   "source": [
    "print(index_hits)  #Fewer index hits, indicating higher specificity"
   ]
  },
  {
   "cell_type": "code",
   "execution_count": null,
   "metadata": {},
   "outputs": [],
   "source": []
  }
 ],
 "metadata": {
  "kernelspec": {
   "display_name": "Python 3",
   "language": "python",
   "name": "python3"
  },
  "language_info": {
   "codemirror_mode": {
    "name": "ipython",
    "version": 3
   },
   "file_extension": ".py",
   "mimetype": "text/x-python",
   "name": "python",
   "nbconvert_exporter": "python",
   "pygments_lexer": "ipython3",
   "version": "3.6.7"
  }
 },
 "nbformat": 4,
 "nbformat_minor": 2
}
