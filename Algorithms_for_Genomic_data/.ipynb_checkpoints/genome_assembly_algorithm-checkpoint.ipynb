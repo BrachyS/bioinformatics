{
 "cells": [
  {
   "cell_type": "markdown",
   "metadata": {},
   "source": [
    "In this notebook, I implemented algorithms \n",
    "- with dynamic programming to calculate edit distance for approximate matching between a pattern and a text; \n",
    "- to find maximum overlaps between sequence reads, and \n",
    "- to assemble a virus genome (greedy shortest common string algorithm"
   ]
  },
  {
   "cell_type": "markdown",
   "metadata": {},
   "source": [
    "### 1. Calculating minimum edit distance between a pattern p and a text t\n",
    "\n",
    "Dynamic programming is employed here, to decompose a recursive problem into smaller problems, while avoiding redundantly recalculating one of these smaller problems.  \n",
    "A matrix D of dimension p*t is initialized, with first row filled with zeros and first column filled with range(len(p)).  \n",
    "The edit distance for each cell is calculative progressively. The minimum edit distance of p and t will be the minimum value at the last row of D. "
   ]
  },
  {
   "cell_type": "code",
   "execution_count": 13,
   "metadata": {},
   "outputs": [],
   "source": [
    "def edit_distance(p, t):\n",
    "    '''Function to calculate minimum edit distance between a pattern p and a text t'''\n",
    "    \n",
    "    # Initialize instance matrix and fill with zeros\n",
    "    D = []\n",
    "    for i in range(len(p)+1): \n",
    "        D.append([0]*(len(t)+1))\n",
    "    for i in range(len(p)+1):    # Initialize first column. First row will be left as zeros\n",
    "        D[i][0] = i\n",
    "    \n",
    "    # Fill in rest of the matrix:\n",
    "    for i in range(1, len(p)+1):\n",
    "        for j in range(1, len(t)+1):\n",
    "            edist_horizontal = D[i][j-1] +1 \n",
    "            edist_vertical = D[i-1][j] + 1\n",
    "            \n",
    "            if p[i-1] == t[j-1]:\n",
    "                 edist_diagonal = D[i-1][j-1]\n",
    "            else:\n",
    "                 edist_diagonal = D[i-1][j-1] + 1\n",
    "            D[i][j] = min(edist_horizontal, edist_vertical, edist_diagonal)\n",
    "    return min(D[-1])"
   ]
  },
  {
   "cell_type": "code",
   "execution_count": 14,
   "metadata": {},
   "outputs": [
    {
     "data": {
      "text/plain": [
       "2"
      ]
     },
     "execution_count": 14,
     "metadata": {},
     "output_type": "execute_result"
    }
   ],
   "source": [
    "edit_distance('avd','abcde')"
   ]
  },
  {
   "cell_type": "code",
   "execution_count": 15,
   "metadata": {},
   "outputs": [],
   "source": [
    "p = 'GCGTATGC'\n",
    "t = 'TATTGGCTATACGGTT'"
   ]
  },
  {
   "cell_type": "code",
   "execution_count": 16,
   "metadata": {},
   "outputs": [
    {
     "data": {
      "text/plain": [
       "2"
      ]
     },
     "execution_count": 16,
     "metadata": {},
     "output_type": "execute_result"
    }
   ],
   "source": [
    "edit_distance(p,t)"
   ]
  },
  {
   "cell_type": "markdown",
   "metadata": {},
   "source": [
    "##### Test case with human genome ch1 "
   ]
  },
  {
   "cell_type": "code",
   "execution_count": 27,
   "metadata": {},
   "outputs": [],
   "source": [
    "from functions.parse_genome import parse_fasta, parse_fastq\n",
    "# parse human genome data chr1\n",
    "human = parse_fasta('data/chr1.GRCh38.excerpt.fasta')"
   ]
  },
  {
   "cell_type": "code",
   "execution_count": 22,
   "metadata": {},
   "outputs": [
    {
     "data": {
      "text/plain": [
       "3"
      ]
     },
     "execution_count": 22,
     "metadata": {},
     "output_type": "execute_result"
    }
   ],
   "source": [
    "p = 'GCTGATCGATCGTACG'\n",
    "t = human\n",
    "edit_distance(p,t)"
   ]
  },
  {
   "cell_type": "code",
   "execution_count": 23,
   "metadata": {},
   "outputs": [
    {
     "data": {
      "text/plain": [
       "2"
      ]
     },
     "execution_count": 23,
     "metadata": {},
     "output_type": "execute_result"
    }
   ],
   "source": [
    "p = 'GATTTACCAGATTGAG'\n",
    "t = human\n",
    "edit_distance(p,t)"
   ]
  },
  {
   "cell_type": "markdown",
   "metadata": {},
   "source": [
    "### 2. Algorithm to find the longest exact overlap (suffix/prefix match) between two strings"
   ]
  },
  {
   "cell_type": "code",
   "execution_count": 94,
   "metadata": {},
   "outputs": [],
   "source": [
    "# Helper function\n",
    "def overlap(a, b , k):\n",
    "    \"\"\"Returns length of longest suffix of 'a' in prefix of 'b' that is at least min_length\n",
    "    If no such overlaps returns 0\"\"\"\n",
    "    start = 0\n",
    "    while True:\n",
    "        start = a.find(b[:k], start)\n",
    "        if start == -1:\n",
    "            return 0\n",
    "        if b.startswith(a[start:]):\n",
    "            return len(a) - start\n",
    "        start += 1 "
   ]
  },
  {
   "cell_type": "code",
   "execution_count": 197,
   "metadata": {},
   "outputs": [],
   "source": [
    "# a naive algorithm which compares permutation of every substring and find overlaps\n",
    "def naive_overlap_map(reads, k):\n",
    "    \"\"\"Find overlaps among every pair of reads\"\"\"\n",
    "    overlaps = {} \n",
    "    for a, b in permutations(reads,2):\n",
    "        overlap_length = overlap(a, b, min_length=k)\n",
    "        if overlap_length > 0:\n",
    "            overlaps[(a, b)] = overlap_length\n",
    "    return overlaps"
   ]
  },
  {
   "cell_type": "markdown",
   "metadata": {},
   "source": [
    "The naive_overlap_map function becomes very slow as number of reads increases  \n",
    "Here I optimized this algorithm by removing duplicated comparisons of a and b.  \n",
    "\n",
    "- The idea is to firstly create a dictionary, with keys as a k-mer of each read, values (set) as the id of reads which contain the same k-mer.\n",
    "- Next, for each read, we query the dictionary with its suffix kmer, which returns reads that contain the same kmer. We compare the read with these sequences only (but remove the read itself).\n"
   ]
  },
  {
   "cell_type": "code",
   "execution_count": 103,
   "metadata": {},
   "outputs": [],
   "source": [
    "# Helper function to build a dictionary of kmers\n",
    "def read_kmers(reads, k):\n",
    "    '''Find all distinct kmers for each sequence read of the parsed fastq file\n",
    "    reads - list of sequences\n",
    "    k - length of kmers'''\n",
    "    from collections import defaultdict\n",
    "    kmers = defaultdict(set)\n",
    "    for id, read in enumerate(reads):\n",
    "        for i in range(len(read)-k + 1):\n",
    "            kmers[read[i:i+k]].add(id)           \n",
    "    return kmers\n",
    "        "
   ]
  },
  {
   "cell_type": "code",
   "execution_count": 140,
   "metadata": {},
   "outputs": [],
   "source": [
    "def overlap_map(reads, k):\n",
    "    \"\"\"Find overlaps among every pair of reads\n",
    "    only 'b' with kmers exist in 'a' will be searched\n",
    "    Thus will be much more efficient than the naive_overlap_map function \"\"\"\n",
    "    overlaps = {}\n",
    "    kmers = read_kmers(reads, k)\n",
    "    for a in range(len(reads)):\n",
    "        reads_to_compare = list(kmers[reads[a][-k:]])\n",
    "        for b in reads_to_compare:\n",
    "            if a != b:\n",
    "                overlap_length = overlap(reads[a], reads[b], k)\n",
    "                if overlap_length > 0:\n",
    "                    overlaps[(a,b)] = overlap_length\n",
    "    return overlaps\n",
    "        "
   ]
  },
  {
   "cell_type": "code",
   "execution_count": 126,
   "metadata": {},
   "outputs": [],
   "source": [
    "# Test case 1: 10000 reads of a virus genome\n",
    "phix =  parse_fastq('data/ERR266411_1.for_asm.fastq')[0] # extract only sequence data\n",
    "phix_overlaps = overlap_map(phix, k=30)"
   ]
  },
  {
   "cell_type": "code",
   "execution_count": 132,
   "metadata": {},
   "outputs": [
    {
     "data": {
      "text/plain": [
       "904746"
      ]
     },
     "execution_count": 132,
     "metadata": {},
     "output_type": "execute_result"
    }
   ],
   "source": [
    "len(phix_overlaps) # number of edges for the graph"
   ]
  },
  {
   "cell_type": "code",
   "execution_count": 139,
   "metadata": {},
   "outputs": [
    {
     "data": {
      "text/plain": [
       "7161"
      ]
     },
     "execution_count": 139,
     "metadata": {},
     "output_type": "execute_result"
    }
   ],
   "source": [
    "len(set([ a for a, b in phix_overlaps.keys()])) # number of nodes for the graph"
   ]
  },
  {
   "cell_type": "code",
   "execution_count": 142,
   "metadata": {},
   "outputs": [
    {
     "data": {
      "text/plain": [
       "{(0, 1): 3, (1, 2): 3, (2, 0): 3}"
      ]
     },
     "execution_count": 142,
     "metadata": {},
     "output_type": "execute_result"
    }
   ],
   "source": [
    "# Test case 2\n",
    "reads = ['ABCDEFG', 'EFGHIJ', 'HIJABC']\n",
    "overlap_map(reads, k=3)"
   ]
  },
  {
   "cell_type": "markdown",
   "metadata": {},
   "source": [
    "### 3. Assembly problem: how to find the shorest common substring among all reads?\n"
   ]
  },
  {
   "cell_type": "markdown",
   "metadata": {},
   "source": [
    "#### A naive algorithm which trys permutation of all substrings to find the shortest common substrings among all reads\n",
    "Note: the naive_overlap_map algorithm is for finding longest overlaps between every pair of strings (of all reads)"
   ]
  },
  {
   "cell_type": "code",
   "execution_count": 152,
   "metadata": {},
   "outputs": [],
   "source": [
    "def scs(ss):\n",
    "    from itertools import permutations\n",
    "    from collections import defaultdict\n",
    "    '''find shortest common super strings, keep track of different resulted strings'''\n",
    "    shortest_s = None\n",
    "    sup_dict = defaultdict(list)\n",
    "    for perm in permutations(ss):\n",
    "        sup = perm[0]\n",
    "        \n",
    "        for i in range(len(perm)-1):\n",
    "            \n",
    "            overlap_len = overlap(perm[i],perm[i+1], k=1)\n",
    "            sup += perm[i+1][overlap_len:]\n",
    "        sup_dict[len(sup)].append(shortest_s)\n",
    "        \n",
    "        if shortest_s == None or len(shortest_s) > len(sup):\n",
    "            shortest_s = sup\n",
    "\n",
    "    return shortest_s, sup_dict\n"
   ]
  },
  {
   "cell_type": "code",
   "execution_count": 153,
   "metadata": {},
   "outputs": [],
   "source": [
    "# Test case 1 \n",
    "ss = ['CCT','CTT','TGC','TGG','GAT','ATT']\n",
    "shortest_s, sup_dict = scs(ss)"
   ]
  },
  {
   "cell_type": "code",
   "execution_count": 156,
   "metadata": {},
   "outputs": [
    {
     "data": {
      "text/plain": [
       "['CCTTGCTGGATT', 'CCTTGGATTGC', 'CCTTGGATTGC', 'CCTTGGATTGC']"
      ]
     },
     "execution_count": 156,
     "metadata": {},
     "output_type": "execute_result"
    }
   ],
   "source": [
    "# Finding variations of the shortest common substrings\n",
    "sup_dict[len(shortest_s)]"
   ]
  },
  {
   "cell_type": "markdown",
   "metadata": {},
   "source": [
    "### Assemble an unkown virus genome, using an optimized greedy scs algorithm\n",
    "Again, the naive algorithm which uses permutation methods is very slow as the number of reads increases.  \n",
    "We shall use a greedy algorithm combined with the kmer-dictionary (as in section 2) approach to speed up."
   ]
  },
  {
   "cell_type": "code",
   "execution_count": 191,
   "metadata": {},
   "outputs": [],
   "source": [
    "# 1) Define a helper function which returns maximum suffix/prefix overlap between two reads\n",
    "\n",
    "def max_overlap(reads, k):\n",
    "    '''Function which returns maximum suffix/prefix > length k overlap between two reads.\n",
    "      Returns 0 if no overlap'''\n",
    "    reada, readb = None, None\n",
    "    max_overlap = 0\n",
    "    overlaps = {}\n",
    "    kmers = read_kmers(reads, k)\n",
    "    \n",
    "    for a in range(len(reads)):\n",
    "        reads_to_compare = list(kmers[reads[a][-k:]])\n",
    "        for b in reads_to_compare:\n",
    "            if a != b:\n",
    "                overlap_len = overlap(reads[a], reads[b], k)\n",
    "        \n",
    "                if overlap_len > max_overlap:\n",
    "                    reada, readb, max_overlap = reads[a], reads[b], overlap_len\n",
    "    \n",
    "    return reada, readb, max_overlap\n"
   ]
  },
  {
   "cell_type": "code",
   "execution_count": 192,
   "metadata": {},
   "outputs": [
    {
     "data": {
      "text/plain": [
       "('GCTCATGAAATCCTGGATCATAGTGTCACAGGGGCAAGAGAGTCTATTGCAGGCATGCTAGATACCACAAAAGGCCTGATTCGAGCCAGCATGAGGAAGG',\n",
       " 'CTCATGAAATCCTGGATCATAGTGTCACAGGGGCAAGAGAGTCTATTGCAGGCATGCTAGATACCACAAAAGGCCTGATTCGAGCCAGCATGAGGAAGGG',\n",
       " 99)"
      ]
     },
     "execution_count": 192,
     "metadata": {},
     "output_type": "execute_result"
    }
   ],
   "source": [
    "max_overlap(virus, k=30)"
   ]
  },
  {
   "cell_type": "code",
   "execution_count": 193,
   "metadata": {},
   "outputs": [],
   "source": [
    "# 2) Implement the Greedy common shortest string algorithm.\n",
    "\n",
    "def greedy_scs(reads, k):\n",
    "    '''Function to find the common shortest string from all reads\n",
    "    It loops and concatenates every pair of reads which have the maximum overlap'''\n",
    "    reada, readb, overlap = max_overlap(reads, k) # Note this line appeared twice, here is to initiate values\n",
    "    while overlap > 0:\n",
    "        reads.remove(reada)\n",
    "        reads.remove(readb)\n",
    "        reads.append(reada + readb[overlap:])\n",
    "        reada, readb, overlap = max_overlap(reads, k)\n",
    "    return ''.join(reads) # concatenate the rest reads, if no overlaps\n",
    "    "
   ]
  },
  {
   "cell_type": "code",
   "execution_count": 198,
   "metadata": {},
   "outputs": [],
   "source": [
    "# Test case 1, use a mystery virus genome\n",
    "virus =  parse_fastq('data/ads1_week4_reads.fq')[0] # extract only sequence data"
   ]
  },
  {
   "cell_type": "code",
   "execution_count": 162,
   "metadata": {},
   "outputs": [
    {
     "data": {
      "text/plain": [
       "'GTCCAGCAGAGCAAGTGATGCGAGAGCTGCCCATCCTCCAACCAGCATGCCCCTAGACATTGACACTGCATCGGAGTCAGGCCAAGATCCGCAGGACAGT'"
      ]
     },
     "execution_count": 162,
     "metadata": {},
     "output_type": "execute_result"
    }
   ],
   "source": [
    "virus[0]"
   ]
  },
  {
   "cell_type": "code",
   "execution_count": 163,
   "metadata": {},
   "outputs": [
    {
     "data": {
      "text/plain": [
       "1881"
      ]
     },
     "execution_count": 163,
     "metadata": {},
     "output_type": "execute_result"
    }
   ],
   "source": [
    "len(virus)"
   ]
  },
  {
   "cell_type": "markdown",
   "metadata": {},
   "source": [
    "#### Finally, the genome assembly"
   ]
  },
  {
   "cell_type": "code",
   "execution_count": 194,
   "metadata": {},
   "outputs": [
    {
     "name": "stdout",
     "output_type": "stream",
     "text": [
      "90.27461886405945\n"
     ]
    }
   ],
   "source": [
    "# Run algorithm to assemble virus genome and time it\n",
    "start = time.time()\n",
    "genome = greedy_scs(virus, k=30)\n",
    "end = time.time()\n",
    "elapsed = end - start\n",
    "print(elapsed) \n",
    "# Took about 90 seconds to run"
   ]
  },
  {
   "cell_type": "code",
   "execution_count": 195,
   "metadata": {},
   "outputs": [
    {
     "data": {
      "text/plain": [
       "15894"
      ]
     },
     "execution_count": 195,
     "metadata": {},
     "output_type": "execute_result"
    }
   ],
   "source": [
    "# Length of assembled genome\n",
    "len(genome)"
   ]
  },
  {
   "cell_type": "code",
   "execution_count": 196,
   "metadata": {},
   "outputs": [
    {
     "data": {
      "text/plain": [
       "Counter({'A': 4633, 'C': 3789, 'G': 3749, 'T': 3723})"
      ]
     },
     "execution_count": 196,
     "metadata": {},
     "output_type": "execute_result"
    }
   ],
   "source": [
    "# Inspect results\n",
    "from collections import Counter\n",
    "Counter(genome)"
   ]
  },
  {
   "cell_type": "code",
   "execution_count": null,
   "metadata": {},
   "outputs": [],
   "source": []
  }
 ],
 "metadata": {
  "kernelspec": {
   "display_name": "Python 3",
   "language": "python",
   "name": "python3"
  },
  "language_info": {
   "codemirror_mode": {
    "name": "ipython",
    "version": 3
   },
   "file_extension": ".py",
   "mimetype": "text/x-python",
   "name": "python",
   "nbconvert_exporter": "python",
   "pygments_lexer": "ipython3",
   "version": "3.6.7"
  }
 },
 "nbformat": 4,
 "nbformat_minor": 2
}
