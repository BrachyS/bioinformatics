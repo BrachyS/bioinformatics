{
 "cells": [
  {
   "cell_type": "markdown",
   "metadata": {},
   "source": [
    "### 2.01_BoyerMoore"
   ]
  },
  {
   "cell_type": "code",
   "execution_count": 1,
   "metadata": {},
   "outputs": [],
   "source": [
    "# Helper functions and Boyer-Moore class\n",
    "# Ref Gusfield, Dan. Algorithms on strings, trees and sequences: computer science and computational biology. Cambridge university press, 1997.\n",
    "\n",
    "import string\n",
    "\n",
    "def z_array(s):\n",
    "    \"\"\" Use Z algorithm (Gusfield theorem 1.4.1) to preprocess s \"\"\"\n",
    "    assert len(s) > 1\n",
    "    z = [len(s)] + [0] * (len(s)-1)\n",
    "    # Initial comparison of s[1:] with prefix\n",
    "    for i in range(1, len(s)):\n",
    "        if s[i] == s[i-1]:\n",
    "            z[1] += 1\n",
    "        else:\n",
    "            break\n",
    "    r, l = 0, 0\n",
    "    if z[1] > 0:\n",
    "        r, l = z[1], 1\n",
    "    for k in range(2, len(s)):\n",
    "        assert z[k] == 0\n",
    "        if k > r:\n",
    "            # Case 1\n",
    "            for i in range(k, len(s)):\n",
    "                if s[i] == s[i-k]:\n",
    "                    z[k] += 1\n",
    "                else:\n",
    "                    break\n",
    "            r, l = k + z[k] - 1, k\n",
    "        else:\n",
    "            # Case 2\n",
    "            # Calculate length of beta\n",
    "            nbeta = r - k + 1\n",
    "            zkp = z[k - l]\n",
    "            if nbeta > zkp:\n",
    "                # Case 2a: Zkp wins\n",
    "                z[k] = zkp\n",
    "            else:\n",
    "                # Case 2b: Compare characters just past r\n",
    "                nmatch = 0\n",
    "                for i in range(r+1, len(s)):\n",
    "                    if s[i] == s[i - k]:\n",
    "                        nmatch += 1\n",
    "                    else:\n",
    "                        break\n",
    "                l, r = k, r + nmatch\n",
    "                z[k] = r - k + 1\n",
    "    return z\n",
    "\n",
    "\n",
    "def n_array(s):\n",
    "    \"\"\" Compile the N array (Gusfield theorem 2.2.2) from the Z array \"\"\"\n",
    "    return z_array(s[::-1])[::-1]\n",
    "\n",
    "\n",
    "def big_l_prime_array(p, n):\n",
    "    \"\"\" Compile L' array (Gusfield theorem 2.2.2) using p and N array.\n",
    "        L'[i] = largest index j less than n such that N[j] = |P[i:]| \"\"\"\n",
    "    lp = [0] * len(p)\n",
    "    for j in range(len(p)-1):\n",
    "        i = len(p) - n[j]\n",
    "        if i < len(p):\n",
    "            lp[i] = j + 1\n",
    "    return lp\n",
    "\n",
    "\n",
    "def big_l_array(p, lp):\n",
    "    \"\"\" Compile L array (Gusfield theorem 2.2.2) using p and L' array.\n",
    "        L[i] = largest index j less than n such that N[j] >= |P[i:]| \"\"\"\n",
    "    l = [0] * len(p)\n",
    "    l[1] = lp[1]\n",
    "    for i in range(2, len(p)):\n",
    "        l[i] = max(l[i-1], lp[i])\n",
    "    return l\n",
    "\n",
    "\n",
    "def small_l_prime_array(n):\n",
    "    \"\"\" Compile lp' array (Gusfield theorem 2.2.4) using N array. \"\"\"\n",
    "    small_lp = [0] * len(n)\n",
    "    for i in range(len(n)):\n",
    "        if n[i] == i+1:  # prefix matching a suffix\n",
    "            small_lp[len(n)-i-1] = i+1\n",
    "    for i in range(len(n)-2, -1, -1):  # \"smear\" them out to the left\n",
    "        if small_lp[i] == 0:\n",
    "            small_lp[i] = small_lp[i+1]\n",
    "    return small_lp\n",
    "\n",
    "\n",
    "def good_suffix_table(p):\n",
    "    \"\"\" Return tables needed to apply good suffix rule. \"\"\"\n",
    "    n = n_array(p)\n",
    "    lp = big_l_prime_array(p, n)\n",
    "    return lp, big_l_array(p, lp), small_l_prime_array(n)\n",
    "\n",
    "\n",
    "def good_suffix_mismatch(i, big_l_prime, small_l_prime):\n",
    "    \"\"\" Given a mismatch at offset i, and given L/L' and l' arrays,\n",
    "        return amount to shift as determined by good suffix rule. \"\"\"\n",
    "    length = len(big_l_prime)\n",
    "    assert i < length\n",
    "    if i == length - 1:\n",
    "        return 0\n",
    "    i += 1  # i points to leftmost matching position of P\n",
    "    if big_l_prime[i] > 0:\n",
    "        return length - big_l_prime[i]\n",
    "    return length - small_l_prime[i]\n",
    "\n",
    "\n",
    "def good_suffix_match(small_l_prime):\n",
    "    \"\"\" Given a full match of P to T, return amount to shift as\n",
    "        determined by good suffix rule. \"\"\"\n",
    "    return len(small_l_prime) - small_l_prime[1]\n",
    "\n",
    "\n",
    "def dense_bad_char_tab(p, amap):\n",
    "    \"\"\" Given pattern string and list with ordered alphabet characters, create\n",
    "        and return a dense bad character table.  Table is indexed by offset\n",
    "        then by character. \"\"\"\n",
    "    tab = []\n",
    "    nxt = [0] * len(amap)\n",
    "    for i in range(0, len(p)):\n",
    "        c = p[i]\n",
    "        assert c in amap\n",
    "        tab.append(nxt[:])\n",
    "        nxt[amap[c]] = i+1\n",
    "    return tab\n",
    "\n",
    "\n",
    "class BoyerMoore(object):\n",
    "    \"\"\" Encapsulates pattern and associated Boyer-Moore preprocessing. \"\"\"\n",
    "    \n",
    "    def __init__(self, p, alphabet='ACGT'):\n",
    "        self.p = p\n",
    "        self.alphabet = alphabet\n",
    "        # Create map from alphabet characters to integers\n",
    "        self.amap = {}\n",
    "        for i in range(len(self.alphabet)):\n",
    "            self.amap[self.alphabet[i]] = i\n",
    "        # Make bad character rule table\n",
    "        self.bad_char = dense_bad_char_tab(p, self.amap)\n",
    "        # Create good suffix rule table\n",
    "        _, self.big_l, self.small_l_prime = good_suffix_table(p)\n",
    "    \n",
    "    def bad_character_rule(self, i, c):\n",
    "        \"\"\" Return # skips given by bad character rule at offset i \"\"\"\n",
    "        assert c in self.amap\n",
    "        ci = self.amap[c]\n",
    "        assert i > (self.bad_char[i][ci]-1)\n",
    "        return i - (self.bad_char[i][ci]-1)\n",
    "    \n",
    "    def good_suffix_rule(self, i):\n",
    "        \"\"\" Given a mismatch at offset i, return amount to shift\n",
    "            as determined by (weak) good suffix rule. \"\"\"\n",
    "        length = len(self.big_l)\n",
    "        assert i < length\n",
    "        if i == length - 1:\n",
    "            return 0\n",
    "        i += 1  # i points to leftmost matching position of P\n",
    "        if self.big_l[i] > 0:\n",
    "            return length - self.big_l[i]\n",
    "        return length - self.small_l_prime[i]\n",
    "    \n",
    "    def match_skip(self):\n",
    "        \"\"\" Return amount to shift in case where P matches T \"\"\"\n",
    "        return len(self.small_l_prime) - self.small_l_prime[1]\n"
   ]
  },
  {
   "cell_type": "markdown",
   "metadata": {},
   "source": [
    "Examples"
   ]
  },
  {
   "cell_type": "code",
   "execution_count": 2,
   "metadata": {},
   "outputs": [
    {
     "data": {
      "text/plain": [
       "2"
      ]
     },
     "execution_count": 2,
     "metadata": {},
     "output_type": "execute_result"
    }
   ],
   "source": [
    "# GCTAGCTCTACGAGTCTA\n",
    "p = 'TCAA'\n",
    "p_bm = BoyerMoore(p, alphabet='ACGT') # preprocessing\n",
    "p_bm.bad_character_rule(2, 'T')"
   ]
  },
  {
   "cell_type": "code",
   "execution_count": 3,
   "metadata": {},
   "outputs": [
    {
     "data": {
      "text/plain": [
       "3"
      ]
     },
     "execution_count": 3,
     "metadata": {},
     "output_type": "execute_result"
    }
   ],
   "source": [
    "# GCTAGCTCTACGAGTCTA\n",
    "# ACTA\n",
    "p = 'ACTA'\n",
    "p_bm = BoyerMoore(p, alphabet='ACGT')\n",
    "p_bm.good_suffix_rule(0)"
   ]
  },
  {
   "cell_type": "code",
   "execution_count": 4,
   "metadata": {},
   "outputs": [
    {
     "data": {
      "text/plain": [
       "2"
      ]
     },
     "execution_count": 4,
     "metadata": {},
     "output_type": "execute_result"
    }
   ],
   "source": [
    "# ACACGCTCTACGAGTCTA\n",
    "# ACAC\n",
    "p = 'ACAC'\n",
    "p_bm = BoyerMoore(p, alphabet='ACGT')\n",
    "p_bm.match_skip()"
   ]
  },
  {
   "cell_type": "code",
   "execution_count": 5,
   "metadata": {},
   "outputs": [],
   "source": [
    "# Implement the Boyer-Moore function:\n",
    "def boyer_moore(p, p_bm, t):\n",
    "    \n",
    "    i = 0\n",
    "    occurrences = []\n",
    "    while i < len(t)-len(p)+ 1:\n",
    "        shift = 1\n",
    "        mismatched = False\n",
    "        \n",
    "        for j in range(len(p)-1, -1, -1): # note len(p)-1\n",
    "            if not p[j] == t[i+j]:\n",
    "                skip_bc = p_bm.bad_character_rule(j, t[i+j]) # note t[i+j] , nto p[j]\n",
    "                skip_gs = p_bm.good_suffix_rule(j)\n",
    "                shift = max(shift, skip_bc, skip_gs)\n",
    "                mismatched = True   # Note this step\n",
    "                break\n",
    "        if not mismatched:\n",
    "            occurrences.append(i)\n",
    "            skip_gs = p_bm.match_skip()\n",
    "            shift = max(shift, skip_gs)\n",
    "        i += shift \n",
    "    return occurrences\n",
    "            "
   ]
  },
  {
   "cell_type": "code",
   "execution_count": 6,
   "metadata": {},
   "outputs": [],
   "source": [
    "t = 'GCTAGCTCTACGAGTCTA'\n",
    "p = 'TCTA'\n",
    "p_bm = BoyerMoore(p, alphabet='ACGT')"
   ]
  },
  {
   "cell_type": "code",
   "execution_count": 7,
   "metadata": {},
   "outputs": [
    {
     "data": {
      "text/plain": [
       "[6, 14]"
      ]
     },
     "execution_count": 7,
     "metadata": {},
     "output_type": "execute_result"
    }
   ],
   "source": [
    "boyer_moore(p, p_bm, t)"
   ]
  },
  {
   "cell_type": "markdown",
   "metadata": {},
   "source": [
    "### 2.02_SubstringIndex"
   ]
  },
  {
   "cell_type": "code",
   "execution_count": 8,
   "metadata": {},
   "outputs": [],
   "source": [
    "import bisect\n",
    "import sys"
   ]
  },
  {
   "cell_type": "code",
   "execution_count": 9,
   "metadata": {},
   "outputs": [],
   "source": [
    "class Index(object):\n",
    "    def __init__(self, t, k):\n",
    "        ''' Create index from all substrings of size 'length' '''\n",
    "        self.k = k # k-mer length\n",
    "        self.index = []\n",
    "        for i in range(len(t) - k +1):\n",
    "            self.index.append((t[i:i+k],i)) # append tuples of (kmer, offset)\n",
    "        self.index.sort() # sort tuples\n",
    "            \n",
    "    def query(self, p):\n",
    "        kmer = p[:self.k] # query with first kmer. Note p[:self.k]. We just need to check one kmer, here we choose the 1st one. \n",
    "        i = bisect.bisect_left(self.index, (kmer, -1)) # binary search, get the left most offset for inserting this kmer\n",
    "        hits = []\n",
    "        while i < len(self.index): # search every kmer on/after offset i\n",
    "            if self.index[i][0] != kmer: # if a kmer in t (on/after position i) does not match kmer of p \n",
    "                break\n",
    "            hits.append(self.index[i][1]) # else, it was a match, append offset\n",
    "            i += 1\n",
    "        return hits"
   ]
  },
  {
   "cell_type": "code",
   "execution_count": 10,
   "metadata": {},
   "outputs": [],
   "source": [
    "# Function to verify hits: characters outside of kmer\n",
    "def queryIndex(p, t, index):\n",
    "    k = index.k # inherited parameter from Index class\n",
    "    offsets = []\n",
    "    for i in index.query(p): # for every hits. Inherited function from Index class\n",
    "        if p[k:] == t[i+k:i+len(p)]:  # Do not forget the 'i'!! , careful writing p[k:], not p[:k]\n",
    "            offsets.append(i)\n",
    "    return offsets\n",
    "    "
   ]
  },
  {
   "cell_type": "code",
   "execution_count": 11,
   "metadata": {},
   "outputs": [],
   "source": [
    "t = 'ACTTGGAGATCTTTGAGGCTAGGTATTCGGGATCGAAGCTCATTTCGGGGATCGATTACGATATGGTGGGTATTCGGGA'\n",
    "p = 'GGTATTCGGGA'"
   ]
  },
  {
   "cell_type": "code",
   "execution_count": 12,
   "metadata": {},
   "outputs": [
    {
     "name": "stdout",
     "output_type": "stream",
     "text": [
      "[21, 68]\n"
     ]
    }
   ],
   "source": [
    "index = Index(t, 4)\n",
    "print(queryIndex(p,t,index))"
   ]
  },
  {
   "cell_type": "markdown",
   "metadata": {},
   "source": [
    "### 2.03_ApproximateMatching"
   ]
  },
  {
   "cell_type": "code",
   "execution_count": 24,
   "metadata": {},
   "outputs": [],
   "source": [
    "def approximate_match(p, t, n):\n",
    "    '''Apply pigeonhole principle to do approximate matching\n",
    "    n = number of mismatches allowed'''\n",
    "    segment_length = int(round(len(p)/(n+1)))\n",
    "    all_matches = set()\n",
    "    \n",
    "    for i in range(n+1): # For each segment, look for matches\n",
    "        start = i*segment_length # the start location of the segment\n",
    "        end = min(len(p), (i+1)*segment_length)\n",
    "        p_bm = BoyerMoore(p[start:end], alphabet='ACGT') # create look-up table\n",
    "        matches = boyer_moore(p[start:end], p_bm, t)\n",
    "        print(i, start, end,matches)\n",
    "        \n",
    "        for m in matches: # For each match in t, check the rest of p and see how many mismatches are there\n",
    "            # NOTE: m are locations in t!\n",
    "            \n",
    "            if m < start or m-start+len(p)>len(t): # ?? why this condition\n",
    "                continue\n",
    "                \n",
    "            mismatches = 0\n",
    "            for j in range(0,start): # check left side of the segment in p\n",
    "                print('left, j=',j,'p[j]',p[j],'t[m-start+j]',t[m-start+j])\n",
    "                if not p[j] == t[m-start+j]:\n",
    "                    mismatches += 1\n",
    "                    if mismatches > n: # remember to break to be efficient\n",
    "                        break\n",
    "            \n",
    "            for j in range(end,len(p)): # check right side \n",
    "                print('right, j=',j,'p[j]',p[j],'t[m-start+j]',t[m-start+j])\n",
    "                if not p[j] == t[m-start+j]: # NOTE: the slicing of t is the same as left side\n",
    "                    mismatches += 1\n",
    "                    if mismatches > n:\n",
    "                        break\n",
    "            \n",
    "            if mismatches <= n:\n",
    "                all_matches.add(m-start) # NOTE: use '.add', not '.append' for set()\n",
    "                # NOTE: use (m-start) to store locations that match the start of p\n",
    "        \n",
    "    return list(all_matches) # convert to list\n",
    "        \n",
    "        "
   ]
  },
  {
   "cell_type": "code",
   "execution_count": 25,
   "metadata": {},
   "outputs": [
    {
     "name": "stdout",
     "output_type": "stream",
     "text": [
      "0 0 2 [5]\n",
      "right, j= 2 p[j] C t[m-start+j] T\n",
      "right, j= 3 p[j] T t[m-start+j] T\n",
      "right, j= 4 p[j] T t[m-start+j] T\n",
      "right, j= 5 p[j] G t[m-start+j] G\n",
      "1 2 4 [2]\n",
      "left, j= 0 p[j] A t[m-start+j] C\n",
      "left, j= 1 p[j] A t[m-start+j] A\n",
      "right, j= 4 p[j] T t[m-start+j] T\n",
      "right, j= 5 p[j] G t[m-start+j] A\n",
      "2 4 6 [9]\n",
      "left, j= 0 p[j] A t[m-start+j] A\n",
      "left, j= 1 p[j] A t[m-start+j] A\n",
      "left, j= 2 p[j] C t[m-start+j] T\n",
      "left, j= 3 p[j] T t[m-start+j] T\n",
      "[0, 5]\n"
     ]
    }
   ],
   "source": [
    "p = 'AACTTG'\n",
    "t = 'CACTTAATTTG'\n",
    "print(approximate_match(p, t, 2))"
   ]
  },
  {
   "cell_type": "code",
   "execution_count": null,
   "metadata": {},
   "outputs": [],
   "source": []
  }
 ],
 "metadata": {
  "kernelspec": {
   "display_name": "Python 3",
   "language": "python",
   "name": "python3"
  },
  "language_info": {
   "codemirror_mode": {
    "name": "ipython",
    "version": 3
   },
   "file_extension": ".py",
   "mimetype": "text/x-python",
   "name": "python",
   "nbconvert_exporter": "python",
   "pygments_lexer": "ipython3",
   "version": "3.6.7"
  }
 },
 "nbformat": 4,
 "nbformat_minor": 2
}
