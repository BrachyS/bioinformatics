{
 "cells": [
  {
   "cell_type": "code",
   "execution_count": 3,
   "metadata": {},
   "outputs": [],
   "source": [
    "# Calculate edit distance use recursive approach\n",
    "# very slow\n",
    "def editDistRecursive(x, y):\n",
    "    \n",
    "    # let algorithm know when to stop\n",
    "    if len(x)==0:\n",
    "        return len(y)\n",
    "    elif len(y)==0:\n",
    "        return len(x)\n",
    "    else:\n",
    "        distHor = editDistRecursive(x[:-1], y) + 1\n",
    "        distVer = editDistRecursive(x, y[:-1]) + 1\n",
    "        if x[-1] == y[-1]:\n",
    "            distDiag = editDistRecursive(x[:-1], y[:-1]) # NOTE: x[:-1] not x\n",
    "        else:\n",
    "            distDiag = editDistRecursive(x[:-1], y[:-1]) + 1\n",
    "        \n",
    "        return min(distHor, distVer, distDiag)"
   ]
  },
  {
   "cell_type": "code",
   "execution_count": 1,
   "metadata": {},
   "outputs": [],
   "source": [
    "# Use dynamic programming: calculate edit distance cell by cell for a matrix\n",
    "# Very fast!\n",
    "\n",
    "def editDistance(x, y):\n",
    "    D = [] # initiate empty matrix\n",
    "    for i in range(len(x)+1):\n",
    "        D.append([0]*(len(y)+1))\n",
    "    for i in range(len(x)+1): # Initiate first column numbers\n",
    "        D[i][0] = i\n",
    "    for i in range(len(y)+1): # Initiate first row numbers\n",
    "        D[0][i] = i\n",
    "    \n",
    "    for i in range(len(x)+1):\n",
    "        for j in range(len(y)+1):\n",
    "            distHor = D[i][j-1] + 1\n",
    "            distVer = D[i-1][j] + 1\n",
    "        if x[i-1] == y[j-1]:\n",
    "            distDiag = D[i][j]\n",
    "        else:\n",
    "            distDiag = D[i][j] + 1\n",
    "        D[i][j] = min(distHor, distVer, distDiag)\n",
    "\n",
    "    return D[-1][-1] # Edit distance is the value in the bottom right corner of the matrix  "
   ]
  },
  {
   "cell_type": "code",
   "execution_count": null,
   "metadata": {},
   "outputs": [],
   "source": [
    "%%time\n",
    "x = 'shake spea'\n",
    "y = 'Shakespearerer'\n",
    "editDistRecursive(x, y)"
   ]
  },
  {
   "cell_type": "code",
   "execution_count": 8,
   "metadata": {},
   "outputs": [
    {
     "name": "stdout",
     "output_type": "stream",
     "text": [
      "CPU times: user 83 µs, sys: 1e+03 ns, total: 84 µs\n",
      "Wall time: 88.2 µs\n"
     ]
    },
    {
     "data": {
      "text/plain": [
       "1"
      ]
     },
     "execution_count": 8,
     "metadata": {},
     "output_type": "execute_result"
    }
   ],
   "source": [
    "%%time\n",
    "x = 'shake spea'\n",
    "y = 'Shakespear'\n",
    "editDistance(x,y)"
   ]
  },
  {
   "cell_type": "code",
   "execution_count": 5,
   "metadata": {},
   "outputs": [
    {
     "name": "stdout",
     "output_type": "stream",
     "text": [
      "[[0, 0, 0, 0, 0]]\n",
      "[[0, 0, 0, 0, 0], [0, 0, 0, 0, 0]]\n",
      "[[0, 0, 0, 0, 0], [0, 0, 0, 0, 0], [0, 0, 0, 0, 0]]\n",
      "[[0, 0, 0, 0, 0], [0, 0, 0, 0, 0], [0, 0, 0, 0, 0], [0, 0, 0, 0, 0]]\n",
      "[[0, 0, 0, 0, 0], [0, 0, 0, 0, 0], [0, 0, 0, 0, 0], [0, 0, 0, 0, 0], [0, 0, 0, 0, 0]]\n"
     ]
    }
   ],
   "source": [
    "x = [1,2,3,4]\n",
    "y=[1,2,3,4]\n",
    "D = []\n",
    "for i in range(len(x)+1):\n",
    "    D.append([0]*(len(y)+1))\n",
    "    print(D)"
   ]
  },
  {
   "cell_type": "code",
   "execution_count": 6,
   "metadata": {},
   "outputs": [
    {
     "data": {
      "text/plain": [
       "[[0, 0, 0, 0, 0],\n",
       " [0, 0, 0, 0, 0],\n",
       " [0, 0, 0, 0, 0],\n",
       " [0, 0, 0, 0, 0],\n",
       " [0, 0, 0, 0, 0]]"
      ]
     },
     "execution_count": 6,
     "metadata": {},
     "output_type": "execute_result"
    }
   ],
   "source": [
    "D"
   ]
  },
  {
   "cell_type": "markdown",
   "metadata": {},
   "source": [
    "### 3.02_GlobalAlignment"
   ]
  },
  {
   "cell_type": "code",
   "execution_count": 12,
   "metadata": {},
   "outputs": [],
   "source": [
    "# Define penalty weights\n",
    "# transitions (A-G or C-T): 2\n",
    "# transversions: 4\n",
    "# deletion2/insertions: 8\n",
    "alphabet = ['A','C','G','T']\n",
    "score = [[0, 4, 2, 4, 8],\n",
    "        [4, 0, 4, 2, 8],\n",
    "        [2, 4, 0, 4, 8],\n",
    "        [4, 2, 4, 0, 8],\n",
    "        [8, 8, 8, 8, 8]]"
   ]
  },
  {
   "cell_type": "code",
   "execution_count": 13,
   "metadata": {},
   "outputs": [
    {
     "data": {
      "text/plain": [
       "0"
      ]
     },
     "execution_count": 13,
     "metadata": {},
     "output_type": "execute_result"
    }
   ],
   "source": [
    "# converts from character to its offset in list alphabet\n",
    "alphabet.index('A')"
   ]
  },
  {
   "cell_type": "code",
   "execution_count": 15,
   "metadata": {},
   "outputs": [
    {
     "data": {
      "text/plain": [
       "4"
      ]
     },
     "execution_count": 15,
     "metadata": {},
     "output_type": "execute_result"
    }
   ],
   "source": [
    "# penalty associated with A (from X) mismatching with T (from Y)\n",
    "score[alphabet.index('A')][alphabet.index('T')]"
   ]
  },
  {
   "cell_type": "code",
   "execution_count": 16,
   "metadata": {},
   "outputs": [
    {
     "data": {
      "text/plain": [
       "8"
      ]
     },
     "execution_count": 16,
     "metadata": {},
     "output_type": "execute_result"
    }
   ],
   "source": [
    "# penalty associated with C (from X) being deleted in Y\n",
    "score[alphabet.index('C')][-1]"
   ]
  },
  {
   "cell_type": "code",
   "execution_count": 24,
   "metadata": {},
   "outputs": [],
   "source": [
    "# Build on editDistance() function\n",
    "def globalAlignment(x, y):\n",
    "    D = [] # initiate empty matrix\n",
    "    for i in range(len(x)+1):\n",
    "        D.append([0]*(len(y)+1))\n",
    "        \n",
    "    # if last row and column numbers are not equal (e.g.,not all 8s)\n",
    "    # add specific codes rather than 8 (see notes)\n",
    "    for i in range(1, len(x)+1): # Initiate first column numbers\n",
    "        D[i][0] = D[i-1][0] + 8 # or: + score[alphabet.index(x[i-1])][-1]\n",
    "    for j in range(1, len(y)+1): # Initiate first row numbers\n",
    "        D[0][j] = D[0][j-1] + 8 # or: + score[-1][alphabet.index(x[i-1])]\n",
    "    print(D)\n",
    "    # Fill the rest\n",
    "    for i in range(1, len(x)+1):\n",
    "        for j in range(1, len(y)+1):\n",
    "            distHor = D[i][j-1] + 8 #  or: + score[-1][alphabet.index(x[i-1])]\n",
    "            distVer = D[i-1][j] + 8 #  or: + score[alphabet.index(x[i-1])][-1]\n",
    "            distDiag = D[i-1][j-1] + score[alphabet.index(x[i-1])][alphabet.index(y[j-1])]\n",
    "            D[i][j] = min(distHor, distVer, distDiag)\n",
    "\n",
    "    return D[-1][-1] # Edit distance is the value in the bottom right corner of the matrix  "
   ]
  },
  {
   "cell_type": "code",
   "execution_count": 25,
   "metadata": {},
   "outputs": [
    {
     "name": "stdout",
     "output_type": "stream",
     "text": [
      "[[0, 8, 16, 24, 32, 40, 48, 56, 64, 72, 80], [8, 0, 0, 0, 0, 0, 0, 0, 0, 0, 0], [16, 0, 0, 0, 0, 0, 0, 0, 0, 0, 0], [24, 0, 0, 0, 0, 0, 0, 0, 0, 0, 0], [32, 0, 0, 0, 0, 0, 0, 0, 0, 0, 0], [40, 0, 0, 0, 0, 0, 0, 0, 0, 0, 0], [48, 0, 0, 0, 0, 0, 0, 0, 0, 0, 0], [56, 0, 0, 0, 0, 0, 0, 0, 0, 0, 0], [64, 0, 0, 0, 0, 0, 0, 0, 0, 0, 0], [72, 0, 0, 0, 0, 0, 0, 0, 0, 0, 0], [80, 0, 0, 0, 0, 0, 0, 0, 0, 0, 0]]\n",
      "4\n"
     ]
    }
   ],
   "source": [
    "x = 'TATGTCATGC'\n",
    "y = 'TATGGCATGC'\n",
    "print(globalAlignment(x,y))"
   ]
  },
  {
   "cell_type": "markdown",
   "metadata": {},
   "source": [
    "### 3.03_FindingOverlaps"
   ]
  },
  {
   "cell_type": "code",
   "execution_count": 3,
   "metadata": {},
   "outputs": [],
   "source": [
    "def overlap(a, b, min_length=3):\n",
    "    \"\"\"Find the longest overlap between suffix of 'a' and prefix of 'b'\n",
    "    if no overlap return 0\"\"\"\n",
    "    start = 0 # start searching from the left\n",
    "    while True: # Search the next occurrence of prefix of b in a\n",
    "        start = a.find(b[:min_length], start) # find the first match from left. Returns -1 if no match\n",
    "        #print(start)\n",
    "        if start == -1:\n",
    "            return 0\n",
    "        if b.startswith(a[start:]): # Check if rest of 'a' (to the right) matches with prefix of 'b'\n",
    "                                    # a[start:] can be longer than  b[:min_length]\n",
    "            return len(a)-start #length of the overlap\n",
    "        start += 1\n",
    "        "
   ]
  },
  {
   "cell_type": "code",
   "execution_count": 4,
   "metadata": {},
   "outputs": [
    {
     "data": {
      "text/plain": [
       "5"
      ]
     },
     "execution_count": 4,
     "metadata": {},
     "output_type": "execute_result"
    }
   ],
   "source": [
    "overlap('TTACGTCGTGT', 'CGTGTGC')"
   ]
  },
  {
   "cell_type": "code",
   "execution_count": 28,
   "metadata": {},
   "outputs": [
    {
     "data": {
      "text/plain": [
       "[(1, 2), (1, 3), (2, 1), (2, 3), (3, 1), (3, 2)]"
      ]
     },
     "execution_count": 28,
     "metadata": {},
     "output_type": "execute_result"
    }
   ],
   "source": [
    "from itertools import permutations\n",
    "\n",
    "list(permutations([1,2,3],2))"
   ]
  },
  {
   "cell_type": "code",
   "execution_count": 32,
   "metadata": {},
   "outputs": [],
   "source": [
    "def naive_overlap_map(reads, k):\n",
    "    \"\"\"Find overlaps among every pair of reads\"\"\"\n",
    "    overlaps = {} \n",
    "    for a, b in permutations(reads,2):\n",
    "        overlap_length = overlap(a, b, min_length=k)\n",
    "        if overlap_length > 0:\n",
    "            overlaps[(a, b)] = overlap_length\n",
    "    return overlaps"
   ]
  },
  {
   "cell_type": "code",
   "execution_count": 33,
   "metadata": {},
   "outputs": [
    {
     "name": "stdout",
     "output_type": "stream",
     "text": [
      "3\n",
      "-1\n",
      "-1\n",
      "-1\n",
      "3\n",
      "-1\n",
      "{('ACGGATC', 'GATCAAGT'): 4, ('TTCACGGA', 'ACGGATC'): 5}\n"
     ]
    }
   ],
   "source": [
    "reads = ['ACGGATC', 'GATCAAGT', 'TTCACGGA']\n",
    "print(naive_overlap_map(reads, 3))"
   ]
  },
  {
   "cell_type": "markdown",
   "metadata": {},
   "source": [
    "### 4.01_ShortestCommonSuperstring"
   ]
  },
  {
   "cell_type": "code",
   "execution_count": 1,
   "metadata": {},
   "outputs": [],
   "source": [
    "# brute force method using permutations\n",
    "# If ss contains n strings, n!(n factorial) orderings possible\n",
    "from itertools import permutations\n",
    "\n",
    "def scs(ss):\n",
    "    \"\"\"Return the shortest common superstring of a set of strings (ss)\n",
    "    Assuming no string is a substring of another\"\"\"\n",
    "    shortest = None\n",
    "    for perms in permutations(ss): # loop through all permutations of the substrings\n",
    "        sup = perms[0] # initiate scs with the first substring of the permutation\n",
    "        \n",
    "        for i in range(len(ss)-1): # for each permutation, find overlaps of every two substrings and concatenate in order\n",
    "            overlap_length = overlap(perms[i], perms[i+1], min_length=1)\n",
    "            sup += perms[i+1][overlap_length:] # concatenate prev substring and the non-overlapping part (should not concatenate the overlapping part) of the next substring\n",
    "        if shortest is None or len(shortest) > len(sup): # Note the indentation here. Should be same as the for loop above\n",
    "            shortest = sup\n",
    "    return shortest\n",
    "        "
   ]
  },
  {
   "cell_type": "code",
   "execution_count": 5,
   "metadata": {},
   "outputs": [
    {
     "data": {
      "text/plain": [
       "'GACACGGTACGAGCTTCGGA'"
      ]
     },
     "execution_count": 5,
     "metadata": {},
     "output_type": "execute_result"
    }
   ],
   "source": [
    "scs(['ACGGTACGAGC', 'GAGCTTCGGA', 'GACACGG'])"
   ]
  },
  {
   "cell_type": "code",
   "execution_count": 7,
   "metadata": {},
   "outputs": [
    {
     "data": {
      "text/plain": [
       "'CCTTGGATTGC'"
      ]
     },
     "execution_count": 7,
     "metadata": {},
     "output_type": "execute_result"
    }
   ],
   "source": [
    "scs(['CCT','CTT','TGC','TGG','GAT','ATT'])"
   ]
  },
  {
   "cell_type": "code",
   "execution_count": 11,
   "metadata": {},
   "outputs": [
    {
     "data": {
      "text/plain": [
       "11"
      ]
     },
     "execution_count": 11,
     "metadata": {},
     "output_type": "execute_result"
    }
   ],
   "source": [
    "len(scs(['ATT','CCT','CTT','TGC','TGG','GAT']))"
   ]
  },
  {
   "cell_type": "markdown",
   "metadata": {},
   "source": [
    "### 4.02_GreedySCS"
   ]
  },
  {
   "cell_type": "code",
   "execution_count": 49,
   "metadata": {},
   "outputs": [],
   "source": [
    "# write a helper function first to find max suffix-prefix overlap\n",
    "def pick_maximal_overlap(reads, k):\n",
    "    \"\"\" Return a pair of reads from the list with a\n",
    "    maximal suffix/prefix overlap >= k.  Returns\n",
    "    overlap length 0 if there are no such overlaps.\"\"\"\n",
    "    reada, readb = None,None\n",
    "    best_olen = 0\n",
    "    for a, b in permutations(reads,2): # note permutation size of 2 instead of 1 in the scs function\n",
    "        olen = overlap(a, b, min_length=k)\n",
    "        if olen > best_olen:\n",
    "            reada, readb = a, b\n",
    "            best_olen = olen\n",
    "    return reada, readb, best_olen"
   ]
  },
  {
   "cell_type": "code",
   "execution_count": 50,
   "metadata": {},
   "outputs": [],
   "source": [
    "# Greedy SCS\n",
    "def greedy_scs(reads, k):\n",
    "    \"\"\" Greedy shortest-common-superstring merge.\n",
    "    Repeat until no edges (overlaps of length >= k)\n",
    "    remain. \"\"\"\n",
    "    reada, readb, best_olen = pick_maximal_overlap(reads, k)\n",
    "    \n",
    "    while best_olen > 0:\n",
    "        reads.remove(reada)\n",
    "        reads.remove(readb)\n",
    "        reads.append(reada + readb[best_olen:]) # merge reads and remove reada, readb from list\n",
    "        reada, readb, best_olen = pick_maximal_overlap(reads, k)\n",
    "    return ''.join(reads) # concatenate if there are multiple 'nodes' left at the end (not overlaped)"
   ]
  },
  {
   "cell_type": "code",
   "execution_count": 51,
   "metadata": {},
   "outputs": [
    {
     "data": {
      "text/plain": [
       "'CABCA'"
      ]
     },
     "execution_count": 51,
     "metadata": {},
     "output_type": "execute_result"
    }
   ],
   "source": [
    "greedy_scs(['ABC', 'BCA', 'CAB'], 2)"
   ]
  },
  {
   "cell_type": "code",
   "execution_count": 52,
   "metadata": {},
   "outputs": [
    {
     "data": {
      "text/plain": [
       "'CDBCABCDA'"
      ]
     },
     "execution_count": 52,
     "metadata": {},
     "output_type": "execute_result"
    }
   ],
   "source": [
    "# Example when greedy scs does not return the shortest common substring\n",
    "# because it merged ABCD and BCDA first due to largest overlap, \n",
    "# then have to concatenate with CDBC\n",
    "greedy_scs(['ABCD', 'CDBC', 'BCDA'], 1)"
   ]
  },
  {
   "cell_type": "code",
   "execution_count": 53,
   "metadata": {},
   "outputs": [
    {
     "data": {
      "text/plain": [
       "'ABCDBCDA'"
      ]
     },
     "execution_count": 53,
     "metadata": {},
     "output_type": "execute_result"
    }
   ],
   "source": [
    "# Compare with brute force:\n",
    "scs(['ABCD', 'CDBC', 'BCDA'])"
   ]
  },
  {
   "cell_type": "markdown",
   "metadata": {},
   "source": [
    "### 4.03_DeBruijn"
   ]
  },
  {
   "cell_type": "code",
   "execution_count": 56,
   "metadata": {},
   "outputs": [],
   "source": [
    "# function to create nodes and edges for the De Bruijn graph\n",
    "def de_bruijn_ize(st, k): # input: string and size of kmer\n",
    "    edges = []\n",
    "    nodes = set()\n",
    "    for i in range(len(st) - k + 1): # NOTE: range(len(st) - k + 1)\n",
    "        edges.append((st[i:i+k-1],st[i+1:i+k])) # append the two (k-1)-mers for the first k mer\n",
    "        nodes.add(st[i:i+k-1]) # NOTE: use 'add' not 'append' for set object\n",
    "        nodes.add(st[i+1:i+k])\n",
    "    return nodes, edges\n",
    "    "
   ]
  },
  {
   "cell_type": "code",
   "execution_count": 57,
   "metadata": {},
   "outputs": [],
   "source": [
    "nodes, edges = de_bruijn_ize(\"ACGCGTCG\", 3)"
   ]
  },
  {
   "cell_type": "code",
   "execution_count": 58,
   "metadata": {},
   "outputs": [
    {
     "data": {
      "text/plain": [
       "{'AC', 'CG', 'GC', 'GT', 'TC'}"
      ]
     },
     "execution_count": 58,
     "metadata": {},
     "output_type": "execute_result"
    }
   ],
   "source": [
    "nodes"
   ]
  },
  {
   "cell_type": "code",
   "execution_count": 59,
   "metadata": {},
   "outputs": [
    {
     "data": {
      "text/plain": [
       "[('AC', 'CG'),\n",
       " ('CG', 'GC'),\n",
       " ('GC', 'CG'),\n",
       " ('CG', 'GT'),\n",
       " ('GT', 'TC'),\n",
       " ('TC', 'CG')]"
      ]
     },
     "execution_count": 59,
     "metadata": {},
     "output_type": "execute_result"
    }
   ],
   "source": [
    "edges"
   ]
  },
  {
   "cell_type": "markdown",
   "metadata": {},
   "source": [
    " #### Visualize De Bruijn graph"
   ]
  },
  {
   "cell_type": "code",
   "execution_count": 60,
   "metadata": {},
   "outputs": [],
   "source": [
    "# function to pass nodes and edges to dot\n",
    "\n",
    "def visualize_de_bruijn(st, k):\n",
    "    \"\"\" Visualize a directed multigraph using graphviz \"\"\"\n",
    "    nodes, edges = de_bruijn_ize(st, k)\n",
    "    dot_str = 'digraph \"DeBruijn graph\" {\\n'\n",
    "    for node in nodes:\n",
    "        dot_str += '  %s [label=\"%s\"] ;\\n' % (node, node)\n",
    "    for src, dst in edges:\n",
    "        dot_str += '  %s -> %s ;\\n' % (src, dst)\n",
    "    return dot_str + '}\\n'"
   ]
  },
  {
   "cell_type": "code",
   "execution_count": 62,
   "metadata": {},
   "outputs": [
    {
     "name": "stderr",
     "output_type": "stream",
     "text": [
      "UsageError: Line magic function `%install_ext` not found.\n"
     ]
    }
   ],
   "source": [
    "# might have to do this first:\n",
    "%install_ext https://raw.github.com/cjdrake/ipython-magic/master/gvmagic.py\n",
    "%load_ext gvmagic\n",
    "\n",
    "# Errors. How to fix this??"
   ]
  },
  {
   "cell_type": "code",
   "execution_count": 68,
   "metadata": {},
   "outputs": [
    {
     "name": "stderr",
     "output_type": "stream",
     "text": [
      "UsageError: Line magic function `%dotstr` not found.\n"
     ]
    }
   ],
   "source": [
    "%dotstr visualize_de_bruijn(\"ACGCGTCG\", 3)"
   ]
  },
  {
   "cell_type": "code",
   "execution_count": null,
   "metadata": {},
   "outputs": [],
   "source": []
  }
 ],
 "metadata": {
  "kernelspec": {
   "display_name": "Python 3",
   "language": "python",
   "name": "python3"
  },
  "language_info": {
   "codemirror_mode": {
    "name": "ipython",
    "version": 3
   },
   "file_extension": ".py",
   "mimetype": "text/x-python",
   "name": "python",
   "nbconvert_exporter": "python",
   "pygments_lexer": "ipython3",
   "version": "3.6.7"
  }
 },
 "nbformat": 4,
 "nbformat_minor": 2
}
